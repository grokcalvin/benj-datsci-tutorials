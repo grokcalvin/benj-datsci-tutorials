{
 "cells": [
  {
   "cell_type": "code",
   "execution_count": null,
   "id": "ea13047b-a6af-4da9-b63b-ca0c2bf8928f",
   "metadata": {},
   "outputs": [],
   "source": [
    "# linear algebra\n",
    "import numpy as np \n",
    "\n",
    "# data processing\n",
    "import pandas as pd \n",
    "\n",
    "# data visualization\n",
    "import seaborn as sns\n",
    "%matplotlib inline\n",
    "from matplotlib import pyplot as plt\n",
    "from matplotlib import style\n",
    "\n",
    "# Algorithms\n",
    "from sklearn import linear_model\n",
    "from sklearn.linear_model import LogisticRegression\n",
    "from sklearn.ensemble import RandomForestClassifier\n",
    "from sklearn.linear_model import Perceptron\n",
    "from sklearn.linear_model import SGDClassifier\n",
    "from sklearn.tree import DecisionTreeClassifier\n",
    "from sklearn.neighbors import KNeighborsClassifier\n",
    "from sklearn.svm import SVC, LinearSVC\n",
    "from sklearn.naive_bayes import GaussianNB\n"
   ]
  },
  {
   "cell_type": "code",
   "execution_count": null,
   "id": "33e8edbf-53a6-4b26-b75a-1a653d2cd05e",
   "metadata": {},
   "outputs": [],
   "source": [
    "test_df = pd.read_csv(\"data/titanic_survival/test.csv\")\n",
    "train_df = pd.read_csv(\"data/titanic_survival/train.csv\")"
   ]
  },
  {
   "cell_type": "code",
   "execution_count": null,
   "id": "df19636d-b176-45e5-88e8-7ca794a9d544",
   "metadata": {},
   "outputs": [],
   "source": [
    "# view a sample of the data (first five and last five)\n",
    "train_df"
   ]
  },
  {
   "cell_type": "code",
   "execution_count": null,
   "id": "3a9bc7b7-d467-42b2-a476-42ed89db6a8c",
   "metadata": {},
   "outputs": [],
   "source": [
    "# A high level summary of your data\n",
    "train_df.info()"
   ]
  },
  {
   "cell_type": "code",
   "execution_count": null,
   "id": "b6fd6475-7588-468b-834e-111c18d8d673",
   "metadata": {},
   "outputs": [],
   "source": [
    "# A high level summary of your data\n",
    "train_df.describe()"
   ]
  },
  {
   "cell_type": "code",
   "execution_count": null,
   "id": "1760ee02-7074-4079-a2d5-ff3ade43f61d",
   "metadata": {},
   "outputs": [],
   "source": [
    "# this works everwhere, not just in Jupyter notebooks\n",
    "train_df.head(10)\n"
   ]
  },
  {
   "cell_type": "markdown",
   "id": "d9278700-d25c-4f4f-844d-71cb59f498dc",
   "metadata": {},
   "source": [
    "##  We will step through these calculations one line at a time.  Once we understand each line we will understand how to work together to accomplish the goal"
   ]
  },
  {
   "cell_type": "code",
   "execution_count": null,
   "id": "31a7d201-9f0a-4549-b4fd-d7ee9d3e705c",
   "metadata": {},
   "outputs": [],
   "source": [
    "total = train_df.isnull().sum().sort_values(ascending=False)\n",
    "percent_1 = train_df.isnull().sum()/train_df.isnull().count()*100\n",
    "percent_2 = (round(percent_1, 1)).sort_values(ascending=False)\n",
    "missing_data = pd.concat([total, percent_2], axis=1, keys=['Total', '%'])\n",
    "missing_data.head(5)"
   ]
  },
  {
   "cell_type": "markdown",
   "id": "80176822-8983-4ad6-adee-7fd459783743",
   "metadata": {},
   "source": [
    "###  Deep dive into this code snippet from above:\n",
    "\n",
    "```\n",
    "total = train_df.isnull().sum().sort_values(ascending=False)\n",
    "```"
   ]
  },
  {
   "cell_type": "code",
   "execution_count": null,
   "id": "0346c779-1537-4c24-81d0-90b738fba76b",
   "metadata": {},
   "outputs": [],
   "source": [
    "train_df.isnull()"
   ]
  },
  {
   "cell_type": "code",
   "execution_count": null,
   "id": "bd400ea1-5964-447c-b9dc-20f8f92e3334",
   "metadata": {},
   "outputs": [],
   "source": [
    "print(type(train_df))\n",
    "print(type(train_df[\"PassengerId\"]))\n",
    "print(type(train_df.isnull()))\n",
    "print(type(train_df.isnull().sum()))"
   ]
  },
  {
   "cell_type": "code",
   "execution_count": null,
   "id": "b1cb39e2-3674-4a61-8145-7042f269a5a4",
   "metadata": {},
   "outputs": [],
   "source": [
    "train_df.isnull().sum()"
   ]
  },
  {
   "cell_type": "code",
   "execution_count": null,
   "id": "abb00707-7dd4-439b-acbc-136ac12c367c",
   "metadata": {},
   "outputs": [],
   "source": [
    "train_df.columns.values"
   ]
  },
  {
   "cell_type": "code",
   "execution_count": null,
   "id": "2f9414b3-9c5a-4696-affa-6fdfc0ec3284",
   "metadata": {},
   "outputs": [],
   "source": [
    "total = train_df.isnull().sum().sort_values(ascending=False)\n",
    "print(total)"
   ]
  },
  {
   "cell_type": "markdown",
   "id": "fd6c7397-b5f8-4032-b451-bcc19a9ab48f",
   "metadata": {},
   "source": [
    "###  Deep dive into this code snippet from above:\n",
    "\n",
    "```\n",
    "percent_1 = train_df.isnull().sum()/train_df.isnull().count()*100\n",
    "```"
   ]
  },
  {
   "cell_type": "code",
   "execution_count": null,
   "id": "76e99d23-11f7-446a-a2f4-51a7ff9b6a66",
   "metadata": {},
   "outputs": [],
   "source": [
    "null_count_df = train_df.isnull().sum()"
   ]
  },
  {
   "cell_type": "code",
   "execution_count": null,
   "id": "d90d9d71-6434-4ea2-9fb3-3d24f0d2bdfd",
   "metadata": {},
   "outputs": [],
   "source": [
    "total_count_df = train_df.isnull().count()"
   ]
  },
  {
   "cell_type": "code",
   "execution_count": null,
   "id": "aead4a0a-eb40-4943-aaca-a2fe651e4131",
   "metadata": {},
   "outputs": [],
   "source": [
    "null_count_df"
   ]
  },
  {
   "cell_type": "code",
   "execution_count": null,
   "id": "3231bdfb-16a1-4278-9518-3cb4ae784b69",
   "metadata": {},
   "outputs": [],
   "source": [
    "\n",
    "total_count_df"
   ]
  },
  {
   "cell_type": "code",
   "execution_count": null,
   "id": "41037f45-abcd-4ad7-89ce-9d544efbfb93",
   "metadata": {},
   "outputs": [],
   "source": [
    "percent_1 = null_count_df / total_count_df *100\n",
    "percent_1"
   ]
  },
  {
   "cell_type": "markdown",
   "id": "5d7159cd-92fd-40cd-b8b5-eadbd87055d5",
   "metadata": {},
   "source": [
    "###  Deep dive into this code snippet from above:\n",
    "```\n",
    "percent_2 = (round(percent_1, 1)).sort_values(ascending=False)\n",
    "```"
   ]
  },
  {
   "cell_type": "code",
   "execution_count": null,
   "id": "f23869da-3f1d-4ad8-8956-0f59efd8e5f0",
   "metadata": {},
   "outputs": [],
   "source": [
    "round(percent_1, 1)"
   ]
  },
  {
   "cell_type": "code",
   "execution_count": null,
   "id": "2cc22e6b-6423-4538-b92b-6ab9323b6073",
   "metadata": {},
   "outputs": [],
   "source": [
    "percent_2 = (round(percent_1, 1)).sort_values(ascending=False)\n"
   ]
  },
  {
   "cell_type": "markdown",
   "id": "b071be8d-02ae-4442-a7e3-0ccfe401f95f",
   "metadata": {},
   "source": [
    "###  Deep dive into this code snippet from above:\n",
    "\n",
    "```\n",
    "missing_data = pd.concat([total, percent_2], axis=1, keys=['Total', '%'])\n",
    "```"
   ]
  },
  {
   "cell_type": "code",
   "execution_count": null,
   "id": "4dc705c6-72b2-47af-b64e-916a6701063a",
   "metadata": {},
   "outputs": [],
   "source": [
    "percent_2"
   ]
  },
  {
   "cell_type": "code",
   "execution_count": null,
   "id": "bd0013a3-1585-4108-a0e6-1eef37e4a094",
   "metadata": {},
   "outputs": [],
   "source": [
    "total"
   ]
  },
  {
   "cell_type": "code",
   "execution_count": null,
   "id": "a4f94716-6771-423f-9f03-847fbbe0c40f",
   "metadata": {},
   "outputs": [],
   "source": [
    "missing_data = pd.concat([total, percent_2], axis=1)\n",
    "missing_data"
   ]
  },
  {
   "cell_type": "code",
   "execution_count": null,
   "id": "d50bbd51-bd6a-4850-a26a-95820de5c7ba",
   "metadata": {},
   "outputs": [],
   "source": [
    "missing_data = pd.concat([total, percent_2], axis=1, keys=['Total', '%'])\n",
    "missing_data"
   ]
  },
  {
   "cell_type": "code",
   "execution_count": null,
   "id": "64758d00-a31c-453d-94e4-33eac9fbeef7",
   "metadata": {},
   "outputs": [],
   "source": []
  }
 ],
 "metadata": {
  "kernelspec": {
   "display_name": "Python 3 (ipykernel)",
   "language": "python",
   "name": "python3"
  },
  "language_info": {
   "codemirror_mode": {
    "name": "ipython",
    "version": 3
   },
   "file_extension": ".py",
   "mimetype": "text/x-python",
   "name": "python",
   "nbconvert_exporter": "python",
   "pygments_lexer": "ipython3",
   "version": "3.11.4"
  }
 },
 "nbformat": 4,
 "nbformat_minor": 5
}
