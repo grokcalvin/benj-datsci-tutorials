{
 "cells": [
  {
   "cell_type": "code",
   "execution_count": null,
   "id": "cab44005-4c6e-4c08-8c6e-24cef510ddd5",
   "metadata": {},
   "outputs": [],
   "source": [
    "# linear algebra\n",
    "import numpy as np \n",
    "\n",
    "# data processing\n",
    "import pandas as pd \n"
   ]
  },
  {
   "cell_type": "code",
   "execution_count": null,
   "id": "b07905f0-d617-4ef4-87b0-8e6141a46963",
   "metadata": {},
   "outputs": [],
   "source": [
    "test_df = pd.read_csv(\"data/titanic_survival/test.csv\")\n",
    "train_df = pd.read_csv(\"data/titanic_survival/train.csv\")"
   ]
  },
  {
   "cell_type": "code",
   "execution_count": null,
   "id": "9ff21cfe-1ac4-4307-82c7-c618bea6dde3",
   "metadata": {},
   "outputs": [],
   "source": [
    "# A high level summary of your data\n",
    "train_df.info()"
   ]
  },
  {
   "cell_type": "code",
   "execution_count": null,
   "id": "8e431880-21b6-4322-a985-f1ff43899051",
   "metadata": {},
   "outputs": [],
   "source": [
    "# A high level summary of your data\n",
    "train_df.describe()"
   ]
  },
  {
   "cell_type": "code",
   "execution_count": null,
   "id": "d66208d6-c625-413d-86e8-f1ab4c627807",
   "metadata": {},
   "outputs": [],
   "source": [
    "# this works everwhere, not just in Jupyter notebooks\n",
    "train_df.head(10)\n"
   ]
  },
  {
   "cell_type": "code",
   "execution_count": null,
   "id": "c5e5d6bc-6ef6-4211-b83a-cda79660f2a1",
   "metadata": {},
   "outputs": [],
   "source": [
    "##  how to delete a cerain row and collumn value\n",
    "#what happens if you compare two series and one value is null?\n",
    "dictionary1 = {\"one\":[1,2,3,4,5],\"two\":[1,2,4,6,7],\"three\":[2,4,6,8,10],\"four\":[3,6,9,12,15],\"five\":[5,10,15,20,25]}\n",
    "df_from_dict = pd.DataFrame.from_dict(dictionary1)\n",
    "print(df_from_dict)\n",
    "\n",
    "df_from_dict[\"six\"] = df_from_dict[\"one\"] + df_from_dict[\"two\"]\n",
    "print(df_from_dict[\"six\"])"
   ]
  },
  {
   "cell_type": "code",
   "execution_count": null,
   "id": "3341feeb-50a0-4534-98e9-fc2fee9e6891",
   "metadata": {},
   "outputs": [],
   "source": [
    "df_from_dict.iloc[0,1] = 2\n",
    "print(df_from_dict)"
   ]
  },
  {
   "cell_type": "code",
   "execution_count": null,
   "id": "5b76b4bf-7a59-4a59-8bcc-ef320423ff9a",
   "metadata": {},
   "outputs": [],
   "source": [
    "true_false_series = df_from_dict[\"one\"] < df_from_dict[\"two\"]\n",
    "print(true_false_series)\n",
    "#does it compare null? or ignore?\n",
    "#ignores\n",
    "#default iteration"
   ]
  },
  {
   "cell_type": "code",
   "execution_count": null,
   "id": "dccbcf48-6e16-469a-82a1-3d85088d708c",
   "metadata": {},
   "outputs": [],
   "source": [
    "# making data frame from csv file\n",
    "data = pd.read_csv(\"nba.csv\", index_col =\"Name\" )\n",
    "  \n",
    "# dropping passed columns\n",
    "#                what if you have a row thats indexed value Matches Colomn value? function is the same - it has a axis arument\n",
    "data.drop([\"Team\", \"Weight\"], axis = 1, inplace = True)\n",
    "  \n",
    "# display\n",
    "data"
   ]
  },
  {
   "cell_type": "markdown",
   "id": "bb130cf4-66d2-4704-a451-62ea3663385b",
   "metadata": {},
   "source": [
    "##  We will step through these calculations one line at a time.  Once we understand each line we will understand how to work together to accomplish the goal"
   ]
  },
  {
   "cell_type": "code",
   "execution_count": null,
   "id": "27cc0203-846a-4bd0-9348-468c65cec67b",
   "metadata": {},
   "outputs": [],
   "source": []
  }
 ],
 "metadata": {
  "kernelspec": {
   "display_name": "Python 3 (ipykernel)",
   "language": "python",
   "name": "python3"
  },
  "language_info": {
   "codemirror_mode": {
    "name": "ipython",
    "version": 3
   },
   "file_extension": ".py",
   "mimetype": "text/x-python",
   "name": "python",
   "nbconvert_exporter": "python",
   "pygments_lexer": "ipython3",
   "version": "3.11.4"
  }
 },
 "nbformat": 4,
 "nbformat_minor": 5
}
